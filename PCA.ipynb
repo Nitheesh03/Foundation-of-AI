{
  "nbformat": 4,
  "nbformat_minor": 0,
  "metadata": {
    "colab": {
      "provenance": [],
      "authorship_tag": "ABX9TyNEhCmyAjCSCpLsDRQuj0Ye",
      "include_colab_link": true
    },
    "kernelspec": {
      "name": "python3",
      "display_name": "Python 3"
    },
    "language_info": {
      "name": "python"
    }
  },
  "cells": [
    {
      "cell_type": "markdown",
      "metadata": {
        "id": "view-in-github",
        "colab_type": "text"
      },
      "source": [
        "<a href=\"https://colab.research.google.com/github/Nitheesh03/Foundation-of-AI/blob/main/PCA.ipynb\" target=\"_parent\"><img src=\"https://colab.research.google.com/assets/colab-badge.svg\" alt=\"Open In Colab\"/></a>"
      ]
    },
    {
      "cell_type": "code",
      "execution_count": 1,
      "metadata": {
        "colab": {
          "base_uri": "https://localhost:8080/"
        },
        "id": "YYAIqNc2rbXp",
        "outputId": "ffb529fd-7128-4403-88c9-8d83f3371e22"
      },
      "outputs": [
        {
          "output_type": "stream",
          "name": "stdout",
          "text": [
            "        nf1       nf2\n",
            "0  0.908387  3.424988\n",
            "1  7.441449 -3.995303\n",
            "2  0.940110  4.434960\n",
            "3 -3.540997  0.105361\n",
            "4 -5.748949 -3.970006\n"
          ]
        }
      ],
      "source": [
        "import numpy as np\n",
        "import pandas as pd\n",
        "A = np.matrix([[1,2,3,4],\n",
        "               [5,5,6,7],\n",
        "               [1,4,2,3],\n",
        "               [5,3,2,1],\n",
        "               [8,1,2,2]])\n",
        "df = pd.DataFrame(A,columns = ['f1','f2','f3','f4'])\n",
        "df_std = (df * df.mean()) / (df.std())\n",
        "n_components = 2\n",
        "from sklearn.decomposition import PCA\n",
        "pca = PCA(n_components=n_components)\n",
        "principalComponents = pca.fit_transform(df_std)\n",
        "principalDF = pd.DataFrame(data=principalComponents,columns=['nf'+str(i+1) for i in range(n_components)])\n",
        "print(principalDF)\n"
      ]
    }
  ]
}