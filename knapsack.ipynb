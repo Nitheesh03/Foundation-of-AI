{
  "nbformat": 4,
  "nbformat_minor": 0,
  "metadata": {
    "colab": {
      "provenance": [],
      "authorship_tag": "ABX9TyOqQ63Cn2k01pB8RYSk/SlC",
      "include_colab_link": true
    },
    "kernelspec": {
      "name": "python3",
      "display_name": "Python 3"
    },
    "language_info": {
      "name": "python"
    }
  },
  "cells": [
    {
      "cell_type": "markdown",
      "metadata": {
        "id": "view-in-github",
        "colab_type": "text"
      },
      "source": [
        "<a href=\"https://colab.research.google.com/github/Nitheesh03/Foundation-of-AI/blob/main/knapsack.ipynb\" target=\"_parent\"><img src=\"https://colab.research.google.com/assets/colab-badge.svg\" alt=\"Open In Colab\"/></a>"
      ]
    },
    {
      "cell_type": "code",
      "execution_count": 4,
      "metadata": {
        "colab": {
          "base_uri": "https://localhost:8080/"
        },
        "id": "Sa3MD0-xkmGK",
        "outputId": "ff828ba5-16e4-4a33-cc4f-ddf1e385f2e3"
      },
      "outputs": [
        {
          "output_type": "stream",
          "name": "stdout",
          "text": [
            "0\n"
          ]
        }
      ],
      "source": [
        "def knapSack(W, wt, val, n):\n",
        "  \n",
        "\n",
        "    if n == 0 or W == 0 :\n",
        "        return 0\n",
        "  \n",
        "\n",
        "    if (wt[n-1] > W):\n",
        "        return knapSack(W, wt, val, n-1)\n",
        "  \n",
        " \n",
        "    else:\n",
        "        return max(val[n-1] + knapSack(W-wt[n-1], wt, val, n-1),\n",
        "                   knapSack(W, wt, val, n-1))\n",
        "  \n",
        "\n",
        "val = [60, 100, 120]\n",
        "wt = [60, 60, 60]\n",
        "W = 50\n",
        "n = len(val)\n",
        "print (knapSack(W, wt, val, n))\n",
        "\n"
      ]
    }
  ]
}